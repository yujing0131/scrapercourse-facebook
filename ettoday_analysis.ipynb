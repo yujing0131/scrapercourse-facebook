{
 "cells": [
  {
   "cell_type": "code",
   "execution_count": 1,
   "metadata": {},
   "outputs": [
    {
     "data": {
      "text/html": [
       "<div>\n",
       "<style scoped>\n",
       "    .dataframe tbody tr th:only-of-type {\n",
       "        vertical-align: middle;\n",
       "    }\n",
       "\n",
       "    .dataframe tbody tr th {\n",
       "        vertical-align: top;\n",
       "    }\n",
       "\n",
       "    .dataframe thead th {\n",
       "        text-align: right;\n",
       "    }\n",
       "</style>\n",
       "<table border=\"1\" class=\"dataframe\">\n",
       "  <thead>\n",
       "    <tr style=\"text-align: right;\">\n",
       "      <th></th>\n",
       "      <th>Unnamed: 0</th>\n",
       "      <th>title</th>\n",
       "    </tr>\n",
       "  </thead>\n",
       "  <tbody>\n",
       "    <tr>\n",
       "      <th>0</th>\n",
       "      <td>0</td>\n",
       "      <td>果然還是福伯演的 #印第安納瓊斯 最對味！那個BGM一下整個回憶湧現～怎麼眼眶一摸濕濕的.....</td>\n",
       "    </tr>\n",
       "    <tr>\n",
       "      <th>1</th>\n",
       "      <td>1</td>\n",
       "      <td>一生一次的浪漫婚禮，突然被一群壞人破壞會氣氣氣氣氣ㄟXD而且還要穿著婚紗在叢林裡逃跑、跟歹徒...</td>\n",
       "    </tr>\n",
       "    <tr>\n",
       "      <th>2</th>\n",
       "      <td>2</td>\n",
       "      <td>60歲這身體還能滑水跳躍！星爺這身體裡住著一位年輕人啊（阿迪仔）【追星消息都在星光雲APPh...</td>\n",
       "    </tr>\n",
       "    <tr>\n",
       "      <th>3</th>\n",
       "      <td>3</td>\n",
       "      <td>這次換成女兒尋找媽媽，而且規模更直接拉到跨國搜索啦！而且怎麼查到後面...媽媽感覺秘密有夠多...</td>\n",
       "    </tr>\n",
       "    <tr>\n",
       "      <th>4</th>\n",
       "      <td>4</td>\n",
       "      <td>看一看想吃日式「拿坡里義大利麵」惹～～～～～（羊羹）娛樂最快訊 都在星光雲App：https...</td>\n",
       "    </tr>\n",
       "    <tr>\n",
       "      <th>...</th>\n",
       "      <td>...</td>\n",
       "      <td>...</td>\n",
       "    </tr>\n",
       "    <tr>\n",
       "      <th>119</th>\n",
       "      <td>119</td>\n",
       "      <td>不可能鬼鬼最近都在親別人吧XDDDD只是喬喬的表情好像沒有幾天前炎P那麼享受耶！！！！應該還...</td>\n",
       "    </tr>\n",
       "    <tr>\n",
       "      <th>120</th>\n",
       "      <td>120</td>\n",
       "      <td>湯唯在《分手的決心》真的演超好實至名歸啊！！！！！（羊羹）娛樂最快訊 都在星光雲App：ht...</td>\n",
       "    </tr>\n",
       "    <tr>\n",
       "      <th>121</th>\n",
       "      <td>121</td>\n",
       "      <td>帥帥帥！只有一個字可以形容#車銀優、#李鍾碩、#金來沅 男神大對決！這陣容我還不看爆～大家記...</td>\n",
       "    </tr>\n",
       "    <tr>\n",
       "      <th>122</th>\n",
       "      <td>122</td>\n",
       "      <td>導演很有看人的眼光！恭喜朴贊郁以《分手的決心》奪下導演獎！（羊羹）星光雲App掌握明星大小事...</td>\n",
       "    </tr>\n",
       "    <tr>\n",
       "      <th>123</th>\n",
       "      <td>123</td>\n",
       "      <td>《機密同盟2》就有兩位獲得這個獎項啦！（羊羹）星光雲App掌握明星大小事：https://g...</td>\n",
       "    </tr>\n",
       "  </tbody>\n",
       "</table>\n",
       "<p>124 rows × 2 columns</p>\n",
       "</div>"
      ],
      "text/plain": [
       "     Unnamed: 0                                              title\n",
       "0             0  果然還是福伯演的 #印第安納瓊斯 最對味！那個BGM一下整個回憶湧現～怎麼眼眶一摸濕濕的.....\n",
       "1             1  一生一次的浪漫婚禮，突然被一群壞人破壞會氣氣氣氣氣ㄟXD而且還要穿著婚紗在叢林裡逃跑、跟歹徒...\n",
       "2             2  60歲這身體還能滑水跳躍！星爺這身體裡住著一位年輕人啊（阿迪仔）【追星消息都在星光雲APPh...\n",
       "3             3  這次換成女兒尋找媽媽，而且規模更直接拉到跨國搜索啦！而且怎麼查到後面...媽媽感覺秘密有夠多...\n",
       "4             4  看一看想吃日式「拿坡里義大利麵」惹～～～～～（羊羹）娛樂最快訊 都在星光雲App：https...\n",
       "..          ...                                                ...\n",
       "119         119  不可能鬼鬼最近都在親別人吧XDDDD只是喬喬的表情好像沒有幾天前炎P那麼享受耶！！！！應該還...\n",
       "120         120  湯唯在《分手的決心》真的演超好實至名歸啊！！！！！（羊羹）娛樂最快訊 都在星光雲App：ht...\n",
       "121         121  帥帥帥！只有一個字可以形容#車銀優、#李鍾碩、#金來沅 男神大對決！這陣容我還不看爆～大家記...\n",
       "122         122  導演很有看人的眼光！恭喜朴贊郁以《分手的決心》奪下導演獎！（羊羹）星光雲App掌握明星大小事...\n",
       "123         123  《機密同盟2》就有兩位獲得這個獎項啦！（羊羹）星光雲App掌握明星大小事：https://g...\n",
       "\n",
       "[124 rows x 2 columns]"
      ]
     },
     "execution_count": 1,
     "metadata": {},
     "output_type": "execute_result"
    }
   ],
   "source": [
    "import pandas as pd\n",
    "data = pd.read_csv('ettoday.csv')\n",
    "data"
   ]
  },
  {
   "cell_type": "code",
   "execution_count": 2,
   "metadata": {},
   "outputs": [
    {
     "data": {
      "text/plain": [
       "{'曼哈頓奇緣': 2, '鞋貓劍客': 2, '阿凡達': 1}"
      ]
     },
     "execution_count": 2,
     "metadata": {},
     "output_type": "execute_result"
    }
   ],
   "source": [
    "movies = ['曼哈頓奇緣','鞋貓劍客','阿凡達']\n",
    "result={}\n",
    "for movie in movies:\n",
    "    result[movie] = data['title'].str.contains(movie).sum()##計算title中包含各電影名稱的資料筆數總和\n",
    "result\n"
   ]
  }
 ],
 "metadata": {
  "kernelspec": {
   "display_name": "Python 3",
   "language": "python",
   "name": "python3"
  },
  "language_info": {
   "codemirror_mode": {
    "name": "ipython",
    "version": 3
   },
   "file_extension": ".py",
   "mimetype": "text/x-python",
   "name": "python",
   "nbconvert_exporter": "python",
   "pygments_lexer": "ipython3",
   "version": "3.11.4"
  }
 },
 "nbformat": 4,
 "nbformat_minor": 2
}
